{
 "cells": [
  {
   "cell_type": "code",
   "execution_count": 1,
   "metadata": {
    "collapsed": true
   },
   "outputs": [],
   "source": [
    "import hashlib\n",
    "import random\n",
    "import string\n",
    "import json\n",
    "import binascii\n",
    "import numpy as np\n",
    "import pandas as pd\n",
    "import pylab as pl\n",
    "import logging\n",
    "import datetime\n",
    "import collections"
   ]
  },
  {
   "cell_type": "code",
   "execution_count": 2,
   "metadata": {
    "collapsed": true
   },
   "outputs": [],
   "source": [
    "import hashlib"
   ]
  },
  {
   "cell_type": "code",
   "execution_count": 3,
   "metadata": {},
   "outputs": [
    {
     "name": "stdout",
     "output_type": "stream",
     "text": [
      "Requirement already satisfied: cryptography in /Library/Frameworks/Python.framework/Versions/3.6/lib/python3.6/site-packages (2.7)\r\n",
      "Requirement already satisfied: asn1crypto>=0.21.0 in /Library/Frameworks/Python.framework/Versions/3.6/lib/python3.6/site-packages (from cryptography) (0.24.0)\r\n",
      "Requirement already satisfied: six>=1.4.1 in /Library/Frameworks/Python.framework/Versions/3.6/lib/python3.6/site-packages (from cryptography) (1.10.0)\r\n",
      "Requirement already satisfied: cffi!=1.11.3,>=1.8 in /Library/Frameworks/Python.framework/Versions/3.6/lib/python3.6/site-packages (from cryptography) (1.10.0)\r\n",
      "Requirement already satisfied: pycparser in /Library/Frameworks/Python.framework/Versions/3.6/lib/python3.6/site-packages (from cffi!=1.11.3,>=1.8->cryptography) (2.17)\r\n"
     ]
    }
   ],
   "source": [
    "! pip3 install cryptography"
   ]
  },
  {
   "cell_type": "code",
   "execution_count": 4,
   "metadata": {
    "collapsed": true
   },
   "outputs": [],
   "source": [
    "import base64\n",
    "import logging\n",
    "\n",
    "from cryptography.exceptions import UnsupportedAlgorithm\n",
    "from cryptography.hazmat.backends import default_backend\n",
    "from cryptography.hazmat.primitives import hashes\n",
    "from cryptography.hazmat.primitives.asymmetric import padding\n",
    "from cryptography.hazmat.primitives.asymmetric import rsa\n",
    "from cryptography.hazmat.primitives import serialization"
   ]
  },
  {
   "cell_type": "code",
   "execution_count": 5,
   "metadata": {},
   "outputs": [
    {
     "name": "stdout",
     "output_type": "stream",
     "text": [
      "Requirement already satisfied: pyDES in /Library/Frameworks/Python.framework/Versions/3.6/lib/python3.6/site-packages (2.0.1)\r\n"
     ]
    }
   ],
   "source": [
    "! pip3 install pyDES"
   ]
  },
  {
   "cell_type": "code",
   "execution_count": 6,
   "metadata": {
    "collapsed": true
   },
   "outputs": [],
   "source": [
    "import pyDes"
   ]
  },
  {
   "cell_type": "markdown",
   "metadata": {},
   "source": [
    "# Symmetric Encryption \n",
    "\n",
    "use of the DES Algorithm\n",
    "\n",
    "https://en.wikipedia.org/wiki/Data_Encryption_Standard"
   ]
  },
  {
   "cell_type": "code",
   "execution_count": 7,
   "metadata": {
    "collapsed": true
   },
   "outputs": [],
   "source": [
    "def encript(msg, key):\n",
    "    k = pyDes.des(key, pyDes.CBC, \"\\0\\0\\0\\0\\0\\0\\0\\0\", pad=None, padmode=pyDes.PAD_PKCS5)\n",
    "    return k.encrypt(msg)"
   ]
  },
  {
   "cell_type": "code",
   "execution_count": 8,
   "metadata": {
    "collapsed": true
   },
   "outputs": [],
   "source": [
    "def decript(msg, key):\n",
    "    k = pyDes.des(key, pyDes.CBC, \"\\0\\0\\0\\0\\0\\0\\0\\0\", pad=None, padmode=pyDes.PAD_PKCS5)\n",
    "    return k.decrypt(msg)"
   ]
  },
  {
   "cell_type": "code",
   "execution_count": 9,
   "metadata": {},
   "outputs": [
    {
     "name": "stdout",
     "output_type": "stream",
     "text": [
      "b\"\\xda\\xd2\\xb3\\xba\\xe5V\\xd4\\x00\\x89\\x1fO\\xd2\\xe5\\x13i\\xf0\\xf1\\x98*\\xec{J'\\x1d\"\n"
     ]
    }
   ],
   "source": [
    "# Key must be 8 Bytes\n",
    "key = \"12345678\"\n",
    "msg = \"Super secret message!\"\n",
    "encripted_msg = encript(msg, key)\n",
    "print(encripted_msg)"
   ]
  },
  {
   "cell_type": "code",
   "execution_count": 10,
   "metadata": {},
   "outputs": [
    {
     "name": "stdout",
     "output_type": "stream",
     "text": [
      "b'Super secret message!'\n"
     ]
    }
   ],
   "source": [
    "decripted_msg = decript(encripted_msg, key)\n",
    "print(decripted_msg)"
   ]
  },
  {
   "cell_type": "markdown",
   "metadata": {},
   "source": [
    "# Asymmetric Cryptography\n",
    "\n",
    "use of the RSA Algorithm (public-key cryptography)\n",
    "\n",
    "https://en.wikipedia.org/wiki/Public-key_cryptography "
   ]
  },
  {
   "cell_type": "code",
   "execution_count": 11,
   "metadata": {
    "collapsed": true
   },
   "outputs": [],
   "source": [
    "def generate_keys():\n",
    "    # Generate new key pair\n",
    "    private_key = rsa.generate_private_key(\n",
    "        public_exponent=65537,\n",
    "        key_size=4096,\n",
    "        backend=default_backend()\n",
    "    )\n",
    "    public_key = private_key.public_key()\n",
    "    return private_key, public_key"
   ]
  },
  {
   "cell_type": "code",
   "execution_count": 12,
   "metadata": {
    "collapsed": true
   },
   "outputs": [],
   "source": [
    "private_key, public_key = generate_keys()"
   ]
  },
  {
   "cell_type": "code",
   "execution_count": 13,
   "metadata": {},
   "outputs": [
    {
     "data": {
      "text/plain": [
       "b'-----BEGIN PUBLIC KEY-----\\nMIICIjANBgkqhkiG9w0BAQEFAAOCAg8AMIICCgKCAgEAsKx41LCyV7jkyzMR5h8S\\nDBJXZvAJxsEwc6ch4ii8zNjW459sUaL0i2Ng8DbIZLsoqZNx6nhL76ACAzPHKABD\\n1fanxasKLr2aqEpUtfiHpk/LPy5+NqSRykjcDI8hBIQVUzkJS1Z+aB97fu4oFeBZ\\ndqK9IPX/ip0apiac7Em28yMvkyuIpLlePrNuVrbUnHa11C7UrOz78ca+fSTseahJ\\n6D5dTW7LY5y62TyM4+BlPbpiz+cHCHnh7/B5f9i8T+ouYscxj+V66ehfjmy+T4qN\\nFfX/ef+6FGOIEMXvDry+WcOj+XBwuJohiRCpv+Bq8PNhxu/VckfJIIBFq4yKBGAE\\nJhT9Cz9DKlsETdPDft9cR+l87MHoODHHHVuG0ZL/vVqzPsbr3IuIUDNQ8HhIlf6T\\n4/2U+tcq9TPQcdZv/8TSXIHhLCnUMfLZdhPFbBcoeJH8HUGH8wVe4CFw30WSk/Ij\\no5k/pT1Euup/tdNMKDD5erXRJwJ/xeTqdPlZKt+yq+9z44HYfV5i3GB7aRAS8WiQ\\nReNBDgOYBWy1mLYdCPWFFfMtBmZ5M01Q6lrd0uHzrLgwJuv3giYDwdd+I5Th9Hre\\nxX5f3/+YpZDEF0Q5aZOpe1VkscmVmgWy/2ZzBbBovbqoBpUwOzgQZDrt8/P96dCS\\nuNWRYLS85ufH4ukxYVkQEDUCAwEAAQ==\\n-----END PUBLIC KEY-----\\n'"
      ]
     },
     "execution_count": 13,
     "metadata": {},
     "output_type": "execute_result"
    }
   ],
   "source": [
    "pem = public_key.public_bytes(encoding=serialization.Encoding.PEM, format=serialization.PublicFormat.SubjectPublicKeyInfo )\n",
    "pem"
   ]
  },
  {
   "cell_type": "code",
   "execution_count": 14,
   "metadata": {
    "collapsed": true
   },
   "outputs": [],
   "source": [
    "def encrypt_asym(plain_text , publickey):\n",
    "    # Encription with the use of the RSA Library\n",
    "    cipher_text_bytes = public_key.encrypt(\n",
    "        plaintext=plain_text.encode('utf-8'),\n",
    "        padding=padding.OAEP(\n",
    "            mgf=padding.MGF1(algorithm=hashes.SHA256()),\n",
    "            algorithm=hashes.SHA512(),\n",
    "            label=None\n",
    "        )\n",
    "    )\n",
    "    # Conversion of raw bytes to BASE64 representation\n",
    "    cipher_text = base64.urlsafe_b64encode(cipher_text_bytes)\n",
    "    return cipher_text\n",
    "\n",
    "def decrypt_asym(cipher_text, private_key):\n",
    "    # Decription with the use of the RSA Library\n",
    "    decrypted_cipher_text_bytes = private_key.decrypt(\n",
    "        ciphertext=base64.urlsafe_b64decode(cipher_text),\n",
    "        padding=padding.OAEP(\n",
    "            mgf=padding.MGF1(algorithm=hashes.SHA256()),\n",
    "            algorithm=hashes.SHA512(),\n",
    "            label=None\n",
    "        )\n",
    "    )\n",
    "    # Conversion to UTF-8 Text\n",
    "    decrypted_cipher_text = decrypted_cipher_text_bytes.decode('utf-8')\n",
    "    return decrypted_cipher_text"
   ]
  },
  {
   "cell_type": "code",
   "execution_count": 15,
   "metadata": {},
   "outputs": [
    {
     "data": {
      "text/plain": [
       "b'fvjcyZR98h46NiJsSBLeM95hNKpyvwOZGj3WDc4fzKOZ6iCZ6qa-g-NstSfnT-uTGS1a7P4by6-NUuYNULXd4B5_ZNlvumgA0ziKyXT7d-hhmQCd-PLfC6Laed_qYmYS_n1mKBV9Xfhtm_CNRnknYmdeA58X3EuwtjnQaZPtj0wgK16DDCXhKKHGDtejbGxjINBalhxi18WZXM05zQsM9-OhJljZzwS_Q7bYTN2B0wIgElHKt2FGX5dRyevCIJr7CW1ack1FUaJhXFpRNIvQBsCjTiqM7FMtpiW2Md-ajxqZ3-5EyVqp6Gu3tBepd7gumcvH1UxIdJdWtABtRR2K5aD74ylB7Sit5bYf8_Vs0DT6_0ViDeAaYTATMSe1OqONre0suxo27YDiFdS_znh7cjDr4P-quuFwPNwy287lWt7cqFRiadarEILhJCnOw6X95XEr99ZKQEDuYNJMREVoMcb0Hh9OMKbpVJ308edjKqnExUCm0GxLS6zLK5jSaV_V5R7H4s5Dd0f0MjmnmdwcJtEib_As5YPrQXBKQSsXNNjdzFIV1MRUnVGsic5whVWDr1fybTrocnOeLOwT6WzwBjmZY6BPbMoZqiTwry2hG-ljnr3Tk1XMI139B9IEKEeAvXzAN191NygV-2m_AzRcuOiWfeNy_QGwOZq0FeDQVxs='"
      ]
     },
     "execution_count": 15,
     "metadata": {},
     "output_type": "execute_result"
    }
   ],
   "source": [
    "msg = \"This message was encripted with asymmetric cryptography\"\n",
    "encrypted_msg = encrypt_asym(msg , public_key)\n",
    "encrypted_msg"
   ]
  },
  {
   "cell_type": "code",
   "execution_count": 16,
   "metadata": {},
   "outputs": [
    {
     "data": {
      "text/plain": [
       "'This message was encripted with asymmetric cryptography'"
      ]
     },
     "execution_count": 16,
     "metadata": {},
     "output_type": "execute_result"
    }
   ],
   "source": [
    "decripted_msg = decrypt_asym(encrypted_msg, private_key)\n",
    "decripted_msg"
   ]
  },
  {
   "cell_type": "markdown",
   "metadata": {},
   "source": [
    "# Simple Hash Functions\n",
    "\n",
    "https://en.wikipedia.org/wiki/Hash_function"
   ]
  },
  {
   "cell_type": "code",
   "execution_count": 17,
   "metadata": {
    "collapsed": true
   },
   "outputs": [],
   "source": [
    "msg = \"This is a long contract\""
   ]
  },
  {
   "cell_type": "code",
   "execution_count": 18,
   "metadata": {
    "collapsed": true
   },
   "outputs": [],
   "source": [
    "def super_simple_hash(msg):\n",
    "    \"\"\"Just the first letter of the message\"\"\"\n",
    "    return msg[0]"
   ]
  },
  {
   "cell_type": "code",
   "execution_count": 19,
   "metadata": {},
   "outputs": [
    {
     "data": {
      "text/plain": [
       "'T'"
      ]
     },
     "execution_count": 19,
     "metadata": {},
     "output_type": "execute_result"
    }
   ],
   "source": [
    "super_simple_hash(msg)"
   ]
  },
  {
   "cell_type": "code",
   "execution_count": 20,
   "metadata": {
    "collapsed": true
   },
   "outputs": [],
   "source": [
    "msg = \"This is a totaly different contract :-)\""
   ]
  },
  {
   "cell_type": "code",
   "execution_count": 21,
   "metadata": {},
   "outputs": [
    {
     "data": {
      "text/plain": [
       "'T'"
      ]
     },
     "execution_count": 21,
     "metadata": {},
     "output_type": "execute_result"
    }
   ],
   "source": [
    "super_simple_hash(msg)"
   ]
  },
  {
   "cell_type": "markdown",
   "metadata": {},
   "source": [
    "# Secure Hash Functions\n",
    "\n",
    "https://en.wikipedia.org/wiki/Secure_Hash_Algorithms"
   ]
  },
  {
   "cell_type": "code",
   "execution_count": 22,
   "metadata": {
    "collapsed": true
   },
   "outputs": [],
   "source": [
    "def hash_msg(msg=\"\"):\n",
    "    return hashlib.sha256(str(msg).encode('utf-8')).hexdigest()"
   ]
  },
  {
   "cell_type": "code",
   "execution_count": 23,
   "metadata": {},
   "outputs": [
    {
     "data": {
      "text/plain": [
       "'853dbfcc24490c5b10f557aa3d35ed5ba895f2165b7cbbab561c19012665838a'"
      ]
     },
     "execution_count": 23,
     "metadata": {},
     "output_type": "execute_result"
    }
   ],
   "source": [
    "hash_msg(\"This is a long contract\")"
   ]
  },
  {
   "cell_type": "code",
   "execution_count": 24,
   "metadata": {},
   "outputs": [
    {
     "data": {
      "text/plain": [
       "'fcaa045d6064a9f33c7a8677664f53ff60b0ce575979219d414a60e3129afe09'"
      ]
     },
     "execution_count": 24,
     "metadata": {},
     "output_type": "execute_result"
    }
   ],
   "source": [
    "hash_msg(\"This is a totaly different contract :-)\")"
   ]
  },
  {
   "cell_type": "code",
   "execution_count": 25,
   "metadata": {
    "collapsed": true
   },
   "outputs": [],
   "source": [
    "def check_msg(msg, signed_hash):\n",
    "    calculated_hash = hash_msg(msg)\n",
    "    if signed_hash == calculated_hash:\n",
    "        return True\n",
    "    else:\n",
    "        return False"
   ]
  },
  {
   "cell_type": "code",
   "execution_count": 26,
   "metadata": {},
   "outputs": [
    {
     "data": {
      "text/plain": [
       "True"
      ]
     },
     "execution_count": 26,
     "metadata": {},
     "output_type": "execute_result"
    }
   ],
   "source": [
    "msg = \"This is my Contract\"\n",
    "msg_hash = hash_msg(msg)\n",
    "check_msg(msg, msg_hash)"
   ]
  },
  {
   "cell_type": "code",
   "execution_count": 27,
   "metadata": {},
   "outputs": [
    {
     "data": {
      "text/plain": [
       "False"
      ]
     },
     "execution_count": 27,
     "metadata": {},
     "output_type": "execute_result"
    }
   ],
   "source": [
    "msg = \"I change the contract so it is much better now for me :-)\"\n",
    "check_msg(msg, msg_hash)"
   ]
  },
  {
   "cell_type": "markdown",
   "metadata": {},
   "source": [
    "# Digital signing messages\n",
    "\n",
    "https://en.wikipedia.org/wiki/Digital_signature"
   ]
  },
  {
   "cell_type": "code",
   "execution_count": 28,
   "metadata": {
    "collapsed": true
   },
   "outputs": [],
   "source": [
    "def sign_msg(message, private_key):\n",
    "    signature = private_key.sign(message, padding.PSS(mgf=padding.MGF1(hashes.SHA256()), salt_length=padding.PSS.MAX_LENGTH), hashes.SHA256())\n",
    "    return signature"
   ]
  },
  {
   "cell_type": "code",
   "execution_count": 29,
   "metadata": {
    "collapsed": true
   },
   "outputs": [],
   "source": [
    "msg = b\"A message I want to sign\"\n",
    "signature = sign_msg(msg, private_key)"
   ]
  },
  {
   "cell_type": "code",
   "execution_count": 30,
   "metadata": {},
   "outputs": [
    {
     "data": {
      "text/plain": [
       "b'\\\\(\\xb4\\xd85O\\xf3\\x88\\xf8\\xf9o\\x9dL\\xe5\\xa7@\\xf7*\\xa3\\x87\\xee\\xb0J=\\x00\\x08\\xfb\\xd0)\\xab\\xec\\xae+x\\xb2\\xa5\\xe0 #O\\xf1\\x7fJ\\xa2\\x16\\x0c\\x81\\x05z\\xd6\\x10\\xb3\\xbft\\xa6\\xac\\x18\\xe0\\x03\\xb9_L\\'=\\x10\\x87\\xd4H\\x1a\\xc7\\xed\\x8b\\xa3\\x1e\\xbcn\\xa1\\x15sh\\t\\xb7\\xe8\\xc9\\xd2\\x96L\\x14\\xc8[\\xee\\xd0j1?G5\\xea%1\\xdeT\\xd9\\x12x\\x0fxqt\\xc4\\xd6\\xaa\\x8a\\xc5rd\\xc9\\xc6\\xa2\\x8a\\xddJ\\x04e\\x0f\\x1a-\\x84\\x90\\x19\\x91\\xb5\\xb6\\x92E\\xc97\\x19\\x15x\\xa1\\xbcU\\xd1\\xed#\\xb2(#\\xe6\\xd6\\x073EE\\x89\\x08L\\x99s*\\xa6x\\xa3\\x99\\xe1;h\\xe7\\xcaI%8_V\\x97\\x93\\x99=7\\xfa\\xa6\\x91@\\xeb;\\xd05h\\xf2\\x0e$\\xed\\x0e\\xe4\\x06\\'\\xa0\\xaf\\x0f\\x9e\\xb5\\x9b\\xeb\\xbe\\xd4\\x84K\\x81\\xb4V\\xb7\\x10\\x1a\\x11\\x8d4\\x8a{\\xce\\x9a\"P\\xc1\\xd2\\x8e1&\\x1b+)\\xf1\\x10\\x92[;\\xec\\x8e]>\\rw}\\xaa\\xf4v\\xec\\x9bT_\\xa6\\xc3\\xcfbv\\xa2\\x1f)\\xb8\\xabc\\xe8\\xb1\\xfe\\xa6\\x12Y*\\x1d\\xc9\\xe5\\xe4\\xd4\\x02\\xd88\\x03\\xb5_W\\x9a\\xce\\xfcQD\\x90\\xa3\\x8d&{\\xc0tr\\xc0\\xb1\\xb3\\xe1L\\xb9\\xd1\\x8c\\xe3\\x82|\\x96\\xa6U\\xbd]tIX\\xbb\\xda\\xf93\\xf0FO\\xe9B^*]D\\x8f\\x96\\x87\\x9c0\\x14\\xe8\\xb4\\xa7\\xd3z\\xd1\\xec\\r\\xdb\\xec\\x89\\x86XZ\\xc1\\xfaP\\xfc\\x89\"<\\xf2c\\xe1\\x0e\\xd8d\\x97@\\x91\\xbeQDN\\x1e\\rd(\\xf5?\\xb0\\xef`\\x9a\\x14]\\x83\\x82SG\\xfa\\xfe\\xd1\\xfaP\\xb8\\x08\\xcaZWi(\\xc2\\x12z\\xc4>\\xadf[#\\xcbl\\xdb\\x16X\\xe0\\xbd\\xbb\\x8b\\xc4\\'9\\xc0\\xeb\\xbdE\\xca\\x1dl\\'j\\xbf\\x1d\\xce\\xae\\x90\\xdc\\xfbAD\\x04e\\xe3\\xe3N\\xeb\\x87\\x1fA\\xd8|\\x94f\\x08gPw\\xb5oS\\x19=\\xd6*Y\\xff\\x86\\xba\\xf3p\\xc23;\\xb6\\xc3\\xa2\\xa55\\xbf Z\\xfe\\xea.d]\\xa6S\\xb2\\xa1\\xd79\\x9a\\x80=W`\\xca\\r\\xd4\\xcb\\xbc\\xa4J\\xbc\\xe8\\xd5_\\xe1KZdQ\\x0b\\\\\\x0e5\\xd0w\\xad'"
      ]
     },
     "execution_count": 30,
     "metadata": {},
     "output_type": "execute_result"
    }
   ],
   "source": [
    "signature"
   ]
  },
  {
   "cell_type": "code",
   "execution_count": 31,
   "metadata": {
    "collapsed": true
   },
   "outputs": [],
   "source": [
    "def verify(signature, message, public_key):\n",
    "    try:\n",
    "        public_key.verify(signature, message, padding.PSS( mgf=padding.MGF1(hashes.SHA256()), salt_length=padding.PSS.MAX_LENGTH), hashes.SHA256())\n",
    "        return True\n",
    "    except: \n",
    "        return False"
   ]
  },
  {
   "cell_type": "code",
   "execution_count": 32,
   "metadata": {},
   "outputs": [
    {
     "data": {
      "text/plain": [
       "True"
      ]
     },
     "execution_count": 32,
     "metadata": {},
     "output_type": "execute_result"
    }
   ],
   "source": [
    "verify(signature, msg, public_key)"
   ]
  },
  {
   "cell_type": "code",
   "execution_count": 33,
   "metadata": {
    "collapsed": true
   },
   "outputs": [],
   "source": [
    "another_msg = \"Another Message\""
   ]
  },
  {
   "cell_type": "code",
   "execution_count": null,
   "metadata": {},
   "outputs": [
    {
     "data": {
      "text/plain": [
       "False"
      ]
     },
     "execution_count": 34,
     "metadata": {},
     "output_type": "execute_result"
    }
   ],
   "source": [
    "verify(signature, another_msg, public_key)"
   ]
  },
  {
   "cell_type": "code",
   "execution_count": null,
   "metadata": {
    "collapsed": true
   },
   "outputs": [],
   "source": [
    "bob_private_key, bob_public_key = generate_keys()"
   ]
  },
  {
   "cell_type": "code",
   "execution_count": null,
   "metadata": {},
   "outputs": [],
   "source": [
    "verify(signature, msg, bob_public_key)"
   ]
  }
 ],
 "metadata": {
  "kernelspec": {
   "display_name": "Python 3",
   "language": "python",
   "name": "python3"
  },
  "language_info": {
   "codemirror_mode": {
    "name": "ipython",
    "version": 3
   },
   "file_extension": ".py",
   "mimetype": "text/x-python",
   "name": "python",
   "nbconvert_exporter": "python",
   "pygments_lexer": "ipython3",
   "version": "3.6.1"
  },
  "varInspector": {
   "cols": {
    "lenName": 16,
    "lenType": 16,
    "lenVar": 40
   },
   "kernels_config": {
    "python": {
     "delete_cmd_postfix": "",
     "delete_cmd_prefix": "del ",
     "library": "var_list.py",
     "varRefreshCmd": "print(var_dic_list())"
    },
    "r": {
     "delete_cmd_postfix": ") ",
     "delete_cmd_prefix": "rm(",
     "library": "var_list.r",
     "varRefreshCmd": "cat(var_dic_list()) "
    }
   },
   "types_to_exclude": [
    "module",
    "function",
    "builtin_function_or_method",
    "instance",
    "_Feature"
   ],
   "window_display": false
  }
 },
 "nbformat": 4,
 "nbformat_minor": 2
}
