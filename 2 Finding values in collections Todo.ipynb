{
 "cells": [
  {
   "cell_type": "code",
   "execution_count": 1,
   "metadata": {},
   "outputs": [],
   "source": [
    "import random\n",
    "random.seed(1000)\n",
    "import matplotlib.pyplot as plt\n",
    "import time\n",
    "import pandas as pd \n",
    "from timeit import default_timer as timer"
   ]
  },
  {
   "cell_type": "markdown",
   "metadata": {},
   "source": [
    "# Create Data"
   ]
  },
  {
   "cell_type": "code",
   "execution_count": 2,
   "metadata": {},
   "outputs": [],
   "source": [
    "# number of elements in list\n",
    "n = 50\n",
    "\n",
    "# list of unsorted items\n",
    "items = [int(random.random()*n) for _ in range(n)]\n",
    "\n",
    "# value to be searched in list\n",
    "value = int(random.random()*n)\n",
    "\n",
    "# sorted list \n",
    "sorted_items = sorted(items)"
   ]
  },
  {
   "cell_type": "markdown",
   "metadata": {},
   "source": [
    "# Find Value in Unsorted List with Linear Search\n",
    "\n",
    "Animation: https://yongdanielliang.github.io/animation/web/LinearSearchNew.html"
   ]
  },
  {
   "cell_type": "code",
   "execution_count": 3,
   "metadata": {},
   "outputs": [],
   "source": [
    "def get_item(items, index):\n",
    "    \"\"\"value of of an item in a list based on the index of the value\n",
    "        args:\n",
    "            - items: List of items\n",
    "            - index: index of the requested item\n",
    "        return:\n",
    "            - value of the requested item\n",
    "    \"\"\"\n",
    "    if index == -1:\n",
    "        print(\"Not in the list\")\n",
    "        #return None\n",
    "    else:\n",
    "        return items[index] "
   ]
  },
  {
   "cell_type": "code",
   "execution_count": 4,
   "metadata": {},
   "outputs": [],
   "source": [
    "def find_element(items, value):\n",
    "    \"\"\"Linear search for a value in a list of items\n",
    "        args:\n",
    "            - items: unsorted list of items\n",
    "            - value: searched value\n",
    "        return:\n",
    "            - index of value or -1 if not in list\n",
    "    \"\"\"\n",
    "    # TODO\n",
    "    i = 0\n",
    "    while i< len(items):\n",
    "        if items[i] == n:\n",
    "            print (\"found at:\",items[i])\n",
    "        i = i+1\n",
    "    return (\"-1 \")\n",
    "    pass\n",
    "\n"
   ]
  },
  {
   "cell_type": "code",
   "execution_count": 5,
   "metadata": {},
   "outputs": [
    {
     "name": "stdout",
     "output_type": "stream",
     "text": [
      "14\n",
      "-1 \n"
     ]
    }
   ],
   "source": [
    "print (value)\n",
    "index = find_element(items, value)\n",
    "print(index)"
   ]
  },
  {
   "cell_type": "code",
   "execution_count": 6,
   "metadata": {
    "scrolled": true
   },
   "outputs": [
    {
     "name": "stdout",
     "output_type": "stream",
     "text": [
      "14\n"
     ]
    }
   ],
   "source": [
    "print(value)\n",
    "#get_item(items, index)"
   ]
  },
  {
   "cell_type": "markdown",
   "metadata": {},
   "source": [
    "### Question: \n",
    "* Time your function with differently sized inputs by\n",
    "* searching for each input size for a non-existing element\n",
    "* and plot the change of the time to the size of the input\n",
    "\n",
    "(see 1 Timing Algorithms)"
   ]
  },
  {
   "cell_type": "code",
   "execution_count": 7,
   "metadata": {},
   "outputs": [
    {
     "name": "stdout",
     "output_type": "stream",
     "text": [
      "4.27 µs ± 386 ns per loop (mean ± std. dev. of 7 runs, 100000 loops each)\n",
      "18.4 µs ± 651 ns per loop (mean ± std. dev. of 7 runs, 100000 loops each)\n",
      "36.4 µs ± 5.7 µs per loop (mean ± std. dev. of 7 runs, 10000 loops each)\n",
      "72.5 µs ± 5.14 µs per loop (mean ± std. dev. of 7 runs, 10000 loops each)\n",
      "125 µs ± 3.74 µs per loop (mean ± std. dev. of 7 runs, 10000 loops each)\n",
      "151 µs ± 14.2 µs per loop (mean ± std. dev. of 7 runs, 1000 loops each)\n",
      "240 µs ± 26.9 µs per loop (mean ± std. dev. of 7 runs, 1000 loops each)\n",
      "339 µs ± 43.1 µs per loop (mean ± std. dev. of 7 runs, 1000 loops each)\n"
     ]
    },
    {
     "data": {
      "image/png": "[encoded data removed]",
      "text/plain": [
       "<Figure size 432x288 with 1 Axes>"
      ]
     },
     "metadata": {
      "needs_background": "light"
     },
     "output_type": "display_data"
    }
   ],
   "source": [
    "list_of_n = [10, 50, 100, 200, 300, 400, 600, 800]\n",
    "value = -10\n",
    "measures = []\n",
    "for n in list_of_n:\n",
    "    items = [int(random.random()*n) for _ in range(n)]\n",
    "    time = get_ipython().run_line_magic('timeit', '-o find_element(items, value)')\n",
    "    measures.append((n, time.average))\n",
    "plt.plot(*zip(*measures))\n",
    "plt.ylim(ymin=0)\n",
    "plt.show()"
   ]
  },
  {
   "cell_type": "markdown",
   "metadata": {},
   "source": [
    "### Question: What is the time complexity of searching for a value in an unsorted list?\n",
    "\n",
    "Big O Notation"
   ]
  },
  {
   "cell_type": "markdown",
   "metadata": {},
   "source": [
    "TODO: Your answer"
   ]
  },
  {
   "cell_type": "markdown",
   "metadata": {},
   "source": [
    "o(n)"
   ]
  },
  {
   "cell_type": "markdown",
   "metadata": {},
   "source": [
    "# Find Value in Sorted list with Binary Search"
   ]
  },
  {
   "cell_type": "markdown",
   "metadata": {},
   "source": [
    "Animation: https://yongdanielliang.github.io/animation/web/BinarySearchNew.html"
   ]
  },
  {
   "cell_type": "code",
   "execution_count": 8,
   "metadata": {},
   "outputs": [],
   "source": [
    "\n",
    "# post = -1\n",
    "# def find_sorted(items_find_sorted, n):\n",
    "#     l= 0 \n",
    "#     u = len(items_find_sorted)-1\n",
    "#     while l<= u:\n",
    "#         mid = (l+u)//2\n",
    "#     if items_find_sorted[mid]== n:\n",
    "#         globals()['post']=mid\n",
    "#         return True \n",
    "#     else:\n",
    "#         if items_find_sorted[mid]<n:\n",
    "#             l= mid +1\n",
    "#         else:\n",
    "#             u= mid -1\n",
    "    \n",
    "              \n",
    "# items_find_sorted =[1,2,3,5,6,23,45,78,88,99,123,167]\n",
    "# n = 88\n",
    "# if find_sorted(items_find_sorted, n):\n",
    "#     print (\"found at:\", post+1)\n",
    "# else:\n",
    "#     print (\"-1\")\n",
    "        "
   ]
  },
  {
   "cell_type": "code",
   "execution_count": 9,
   "metadata": {},
   "outputs": [
    {
     "name": "stdout",
     "output_type": "stream",
     "text": [
      "[0, 1, 2, 4, 4, 5, 6, 8, 8, 9, 10, 11, 11, 14, 14, 14, 15, 15, 17, 18, 20, 22, 22, 23, 23, 23, 24, 24, 24, 26, 27, 30, 32, 33, 33, 33, 34, 35, 38, 39, 40, 41, 42, 43, 44, 44, 47, 48, 48, 49]\n"
     ]
    },
    {
     "data": {
      "text/plain": [
       "6"
      ]
     },
     "execution_count": 9,
     "metadata": {},
     "output_type": "execute_result"
    }
   ],
   "source": [
    "def find_sorted(data, value):\n",
    "    n = len(data)\n",
    "    left = 0\n",
    "    right = n - 1\n",
    "    while left <= right:\n",
    "        middle = (left + right) // 2\n",
    "        if value < data[middle]:\n",
    "            right = middle - 1\n",
    "        elif value > data[middle]:\n",
    "            left = middle + 1\n",
    "        else:\n",
    "            return middle\n",
    "    \n",
    "    \n",
    "\n",
    "value = sorted_items[6] \n",
    "print(sorted_items)\n",
    "find_sorted(sorted_items, value)"
   ]
  },
  {
   "cell_type": "code",
   "execution_count": 10,
   "metadata": {},
   "outputs": [
    {
     "name": "stdout",
     "output_type": "stream",
     "text": [
      "-1\n"
     ]
    }
   ],
   "source": [
    "# a value that is not in the list so that we get the worst case time\n",
    "value = n+1 \n",
    "if find_sorted(sorted_items, value):\n",
    "    print (\"found at:\", post+1)\n",
    "else:\n",
    "    print (\"-1\")"
   ]
  },
  {
   "cell_type": "code",
   "execution_count": 11,
   "metadata": {},
   "outputs": [
    {
     "name": "stdout",
     "output_type": "stream",
     "text": [
      "-1\n"
     ]
    }
   ],
   "source": [
    "n = 100\n",
    "items = [int(random.random()*n) for _ in range(n)]\n",
    "value = n+1 \n",
    "if find_sorted(sorted_items, value):\n",
    "    print (\"found at:\", post+1)\n",
    "else:\n",
    "    print (\"-1\")"
   ]
  },
  {
   "cell_type": "code",
   "execution_count": 12,
   "metadata": {},
   "outputs": [
    {
     "name": "stdout",
     "output_type": "stream",
     "text": [
      "-1\n"
     ]
    }
   ],
   "source": [
    "n = 200\n",
    "items = [int(random.random()*n) for _ in range(n)]\n",
    "value = n+1 \n",
    "if find_sorted(sorted_items, value):\n",
    "    print (\"found at:\", post+1)\n",
    "else:\n",
    "    print (\"-1\")"
   ]
  },
  {
   "cell_type": "markdown",
   "metadata": {},
   "source": [
    "### Question: \n",
    "* Time your function with differently sized inputs by\n",
    "* searching for each input size for a non-existing element\n",
    "* and plot the change of the time to the size of the input\n",
    "\n",
    "(see 1 Timing Algorithms)"
   ]
  },
  {
   "cell_type": "code",
   "execution_count": 13,
   "metadata": {},
   "outputs": [
    {
     "name": "stdout",
     "output_type": "stream",
     "text": [
      "3.14 µs ± 489 ns per loop (mean ± std. dev. of 7 runs, 100000 loops each)\n",
      "3.57 µs ± 480 ns per loop (mean ± std. dev. of 7 runs, 100000 loops each)\n",
      "5.62 µs ± 1.87 µs per loop (mean ± std. dev. of 7 runs, 100000 loops each)\n",
      "7.64 µs ± 2.05 µs per loop (mean ± std. dev. of 7 runs, 100000 loops each)\n",
      "6.55 µs ± 915 ns per loop (mean ± std. dev. of 7 runs, 100000 loops each)\n",
      "5.64 µs ± 798 ns per loop (mean ± std. dev. of 7 runs, 100000 loops each)\n",
      "6.07 µs ± 726 ns per loop (mean ± std. dev. of 7 runs, 100000 loops each)\n",
      "6.04 µs ± 533 ns per loop (mean ± std. dev. of 7 runs, 100000 loops each)\n",
      "6.04 µs ± 469 ns per loop (mean ± std. dev. of 7 runs, 100000 loops each)\n",
      "6.08 µs ± 632 ns per loop (mean ± std. dev. of 7 runs, 100000 loops each)\n"
     ]
    },
    {
     "data": {
      "image/png": "[encoded data removed]",
      "text/plain": [
       "<Figure size 432x288 with 1 Axes>"
      ]
     },
     "metadata": {
      "needs_background": "light"
     },
     "output_type": "display_data"
    }
   ],
   "source": [
    "list_of_n = [50, 100, 200, 300, 400, 500, 600, 700, 800, 900]\n",
    "value = -1\n",
    "measures = []\n",
    "for n in list_of_n:\n",
    "    value = n+1\n",
    "    items = [int(random.random()*n) for _ in range(n)]\n",
    "    items = sorted(items)\n",
    "    time = get_ipython().run_line_magic('timeit', '-o find_sorted(items, value)')\n",
    "    measures.append((n, time.average))\n",
    "plt.plot(*zip(*measures))\n",
    "plt.ylim(ymin=0)\n",
    "plt.show()"
   ]
  },
  {
   "cell_type": "markdown",
   "metadata": {},
   "source": [
    "### Question: What is the time complexity of binary search? \n",
    "\n",
    "Big O Notation"
   ]
  },
  {
   "cell_type": "markdown",
   "metadata": {
    "collapsed": true
   },
   "source": [
    "TODO: Your answer"
   ]
  },
  {
   "cell_type": "markdown",
   "metadata": {},
   "source": [
    "o(logn)"
   ]
  }
 ],
 "metadata": {
  "kernelspec": {
   "display_name": "Python 3",
   "language": "python",
   "name": "python3"
  },
  "language_info": {
   "codemirror_mode": {
    "name": "ipython",
    "version": 3
   },
   "file_extension": ".py",
   "mimetype": "text/x-python",
   "name": "python",
   "nbconvert_exporter": "python",
   "pygments_lexer": "ipython3",
   "version": "3.7.3"
  },
  "varInspector": {
   "cols": {
    "lenName": 16,
    "lenType": 16,
    "lenVar": 40
   },
   "kernels_config": {
    "python": {
     "delete_cmd_postfix": "",
     "delete_cmd_prefix": "del ",
     "library": "var_list.py",
     "varRefreshCmd": "print(var_dic_list())"
    },
    "r": {
     "delete_cmd_postfix": ") ",
     "delete_cmd_prefix": "rm(",
     "library": "var_list.r",
     "varRefreshCmd": "cat(var_dic_list()) "
    }
   },
   "oldHeight": 123.2,
   "position": {
    "height": "40px",
    "left": "1012.5px",
    "right": "20px",
    "top": "120px",
    "width": "250px"
   },
   "types_to_exclude": [
    "module",
    "function",
    "builtin_function_or_method",
    "instance",
    "_Feature"
   ],
   "varInspector_section_display": "none",
   "window_display": false
  }
 },
 "nbformat": 4,
 "nbformat_minor": 2
}
