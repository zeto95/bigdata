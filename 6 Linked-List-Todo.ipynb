{
 "cells": [
  {
   "cell_type": "markdown",
   "metadata": {},
   "source": [
    "# Linked List"
   ]
  },
  {
   "cell_type": "markdown",
   "metadata": {},
   "source": [
    "![Linked List](https://cdncontribute.geeksforgeeks.org/wp-content/uploads/Linkedlist-2.png)\n",
    "\n",
    "See https://yongdanielliang.github.io/animation/web/LinkedList.html for an animation."
   ]
  },
  {
   "cell_type": "code",
   "execution_count": 1,
   "metadata": {},
   "outputs": [],
   "source": [
    "class node:\n",
    "    def __init__(self, data=None):\n",
    "        self.data=data\n",
    "        self.next=None\n",
    "        pass\n",
    "        # Todo"
   ]
  },
  {
   "cell_type": "code",
   "execution_count": 2,
   "metadata": {},
   "outputs": [],
   "source": [
    "class LinkedList:\n",
    "    def __init__(self):\n",
    "        self.head = node() \n",
    "        pass\n",
    "        # Todo\n",
    "        \n",
    "        \n",
    "    def append(self, data):\n",
    "        \"\"\"Append the new element at the end of the list.\n",
    "        if there is no element yet in the list, it is the head element.\"\"\"\n",
    "        new_node= node(data)\n",
    "        current = self.head\n",
    "        while current.next!=None:\n",
    "            current = current.next\n",
    "        current.next = new_node\n",
    "        pass\n",
    "        # Todo\n",
    "        \n",
    "    def length (self):\n",
    "        current = self.head\n",
    "        total= 1\n",
    "        while current.next!=None: \n",
    "            total +=1\n",
    "            current= current.next\n",
    "        return total \n",
    "    \n",
    "    \n",
    "    def get_position(self, position):\n",
    "        \"\"\"Get an element from a particular position.\n",
    "        Assume the first position is the index \"1\".\n",
    "        Return \"None\" if position is not in the list.\"\"\"\n",
    "        if position>= self.length():\n",
    "            print(self.length() , \"lllllength\")\n",
    "            print(\"None\")\n",
    "        cur_index = 1\n",
    "        current_node= self.head\n",
    "        while True:\n",
    "            current_node = current_node.next\n",
    "            if cur_index == position: return current_node.data\n",
    "            cur_index+=1\n",
    "        pass\n",
    "        # Todo\n",
    "        \n",
    "    def insert(self, data, position):\n",
    "        \"\"\"Insert a new node at the given position.\n",
    "        Assume the first position is \"1\".\n",
    "        Inserting at position 3 means between the 2nd and 3rd elements.\"\"\"\n",
    "        if position >= self.length() or position <0:\n",
    "            return self.append(data)\n",
    "        cur_node= self.head\n",
    "        prior_node = self.head\n",
    "        cur_index = 1\n",
    "        while True:\n",
    "            cur_node=cur_node.next\n",
    "            if cur_index==position: \n",
    "                new_node=node(data)\n",
    "                prior_node.next=new_node\n",
    "                new_node.next=cur_node\n",
    "                return\n",
    "            prior_node=cur_node\n",
    "            cur_index+=1\n",
    "        \n",
    "        pass\n",
    "        # Todo\n",
    "    def display(self):\n",
    "        elems=[]\n",
    "        cur_node=self.head\n",
    "        while cur_node.next!=None:\n",
    "            cur_node=cur_node.next\n",
    "            elems.append(cur_node.data)\n",
    "        n = 0 \n",
    "        print(elems)\n",
    "    \n",
    "    def delete(self, data):\n",
    "        \"\"\"Delete the first node with a given value.\"\"\"\n",
    "        current_node = self.head\n",
    "        if current_node and current_node.data == data:\n",
    "            self.head = current_node.next\n",
    "            current_node = None \n",
    "            return\n",
    "        prev_node = None\n",
    "        while current_node and current_node.data != data:\n",
    "            prev_node = current_node\n",
    "            current_node = current_node.next\n",
    "            if current_node is None:\n",
    "                return \n",
    "            prev_node.next = current_node.next \n",
    "            current_node = None \n",
    "        \n",
    "        pass\n",
    "        # Todo"
   ]
  },
  {
   "cell_type": "code",
   "execution_count": 3,
   "metadata": {},
   "outputs": [],
   "source": [
    "# Test cases\n",
    "# Set up some Elements\n",
    "e1 = node(1)\n",
    "e2 = node(2)\n",
    "e3 = node(3)\n",
    "e4 = node(4)\n",
    "\n",
    "# Start setting up a LinkedList\n",
    "llist = LinkedList()\n",
    "llist.append(e1)\n",
    "llist.append(e2)\n",
    "llist.append(e3)"
   ]
  },
  {
   "cell_type": "code",
   "execution_count": 4,
   "metadata": {},
   "outputs": [
    {
     "name": "stdout",
     "output_type": "stream",
     "text": [
      "<__main__.node object at 0x0000013B0AB29080>\n"
     ]
    }
   ],
   "source": [
    "# Test if appends were correct\n",
    "# Should be 3\n",
    "print(llist.head.next.next.data)"
   ]
  },
  {
   "cell_type": "code",
   "execution_count": 5,
   "metadata": {},
   "outputs": [
    {
     "name": "stdout",
     "output_type": "stream",
     "text": [
      "3\n"
     ]
    }
   ],
   "source": [
    "# Test get_position\n",
    "# Should also be 3\n",
    "print(llist.get_position(3).data)\n"
   ]
  },
  {
   "cell_type": "code",
   "execution_count": 6,
   "metadata": {},
   "outputs": [
    {
     "name": "stdout",
     "output_type": "stream",
     "text": [
      "4\n"
     ]
    }
   ],
   "source": [
    "# Test insert\n",
    "llist.insert(e4,3)\n",
    "\n",
    "# Should print 4 now\n",
    "print(llist.get_position(3).data)\n"
   ]
  },
  {
   "cell_type": "code",
   "execution_count": 7,
   "metadata": {},
   "outputs": [
    {
     "name": "stdout",
     "output_type": "stream",
     "text": [
      "[<__main__.node object at 0x0000013B0AB29080>, <__main__.node object at 0x0000013B0AB29240>, <__main__.node object at 0x0000013B0AB29208>]\n",
      "None\n",
      "2\n",
      "4\n",
      "3\n"
     ]
    }
   ],
   "source": [
    "# Test delete\n",
    "llist.delete(1)\n",
    "print(llist.display())\n",
    "# # Should print 2 now\n",
    "print(llist.get_position(1).data)\n",
    "# # Should print 4 now\n",
    "print(llist.get_position(2).data)\n",
    "# # Should print 3 now\n",
    "print(llist.get_position(3).data)\n"
   ]
  }
 ],
 "metadata": {
  "kernelspec": {
   "display_name": "Python 3",
   "language": "python",
   "name": "python3"
  },
  "language_info": {
   "codemirror_mode": {
    "name": "ipython",
    "version": 3
   },
   "file_extension": ".py",
   "mimetype": "text/x-python",
   "name": "python",
   "nbconvert_exporter": "python",
   "pygments_lexer": "ipython3",
   "version": "3.7.3"
  },
  "varInspector": {
   "cols": {
    "lenName": 16,
    "lenType": 16,
    "lenVar": 40
   },
   "kernels_config": {
    "python": {
     "delete_cmd_postfix": "",
     "delete_cmd_prefix": "del ",
     "library": "var_list.py",
     "varRefreshCmd": "print(var_dic_list())"
    },
    "r": {
     "delete_cmd_postfix": ") ",
     "delete_cmd_prefix": "rm(",
     "library": "var_list.r",
     "varRefreshCmd": "cat(var_dic_list()) "
    }
   },
   "types_to_exclude": [
    "module",
    "function",
    "builtin_function_or_method",
    "instance",
    "_Feature"
   ],
   "window_display": false
  }
 },
 "nbformat": 4,
 "nbformat_minor": 2
}
